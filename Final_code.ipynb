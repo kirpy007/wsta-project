{
 "cells": [
  {
   "cell_type": "code",
   "execution_count": 1,
   "metadata": {},
   "outputs": [],
   "source": [
    "import time\n",
    "import pprint\n",
    "import glob\n",
    "import nltk\n",
    "from nltk.corpus import stopwords\n",
    "import string\n",
    "import pandas as pd\n",
    "import string\n",
    "import pickle\n",
    "import gensim\n",
    "from gensim.parsing.preprocessing import strip_punctuation\n",
    "from gensim.parsing.preprocessing import stem_text\n",
    "from gensim.corpora.textcorpus import TextCorpus\n",
    "from gensim.test.utils import datapath, get_tmpfile\n",
    "from gensim.similarities import Similarity\n",
    "from gensim.corpora.textcorpus import TextDirectoryCorpus\n",
    "from nltk.tokenize import word_tokenize\n",
    "from gensim.corpora import MmCorpus \n",
    "import numpy as np\n",
    "import sys"
   ]
  },
  {
   "cell_type": "code",
   "execution_count": 2,
   "metadata": {},
   "outputs": [],
   "source": [
    "files = glob.glob('/home/rohan/Documents/Homework/WSTA/wiki-all/*.txt')"
   ]
  },
  {
   "cell_type": "code",
   "execution_count": 3,
   "metadata": {},
   "outputs": [],
   "source": [
    "def preprocess(text):\n",
    "    return [word for word in word_tokenize(stem_text(strip_punctuation(text.lower().replace(\"\\n\", \"\"))))]"
   ]
  },
  {
   "cell_type": "code",
   "execution_count": 4,
   "metadata": {},
   "outputs": [
    {
     "name": "stdout",
     "output_type": "stream",
     "text": [
      "/home/rohan/Documents/Homework/WSTA/wiki-all/wiki-047.txt\n",
      "/home/rohan/Documents/Homework/WSTA/wiki-all/wiki-041.txt\n",
      "/home/rohan/Documents/Homework/WSTA/wiki-all/wiki-107.txt\n",
      "/home/rohan/Documents/Homework/WSTA/wiki-all/wiki-108.txt\n",
      "/home/rohan/Documents/Homework/WSTA/wiki-all/wiki-098.txt\n",
      "/home/rohan/Documents/Homework/WSTA/wiki-all/wiki-030.txt\n",
      "/home/rohan/Documents/Homework/WSTA/wiki-all/wiki-031.txt\n",
      "/home/rohan/Documents/Homework/WSTA/wiki-all/wiki-087.txt\n",
      "/home/rohan/Documents/Homework/WSTA/wiki-all/wiki-077.txt\n",
      "/home/rohan/Documents/Homework/WSTA/wiki-all/wiki-080.txt\n",
      "/home/rohan/Documents/Homework/WSTA/wiki-all/wiki-010.txt\n",
      "/home/rohan/Documents/Homework/WSTA/wiki-all/wiki-045.txt\n",
      "/home/rohan/Documents/Homework/WSTA/wiki-all/wiki-066.txt\n",
      "/home/rohan/Documents/Homework/WSTA/wiki-all/wiki-052.txt\n",
      "/home/rohan/Documents/Homework/WSTA/wiki-all/wiki-040.txt\n",
      "/home/rohan/Documents/Homework/WSTA/wiki-all/wiki-069.txt\n",
      "/home/rohan/Documents/Homework/WSTA/wiki-all/wiki-022.txt\n",
      "/home/rohan/Documents/Homework/WSTA/wiki-all/wiki-090.txt\n",
      "/home/rohan/Documents/Homework/WSTA/wiki-all/wiki-021.txt\n",
      "/home/rohan/Documents/Homework/WSTA/wiki-all/wiki-070.txt\n",
      "/home/rohan/Documents/Homework/WSTA/wiki-all/wiki-100.txt\n",
      "/home/rohan/Documents/Homework/WSTA/wiki-all/wiki-059.txt\n",
      "/home/rohan/Documents/Homework/WSTA/wiki-all/wiki-060.txt\n",
      "/home/rohan/Documents/Homework/WSTA/wiki-all/wiki-092.txt\n",
      "/home/rohan/Documents/Homework/WSTA/wiki-all/wiki-089.txt\n",
      "/home/rohan/Documents/Homework/WSTA/wiki-all/wiki-012.txt\n",
      "/home/rohan/Documents/Homework/WSTA/wiki-all/wiki-084.txt\n",
      "/home/rohan/Documents/Homework/WSTA/wiki-all/wiki-035.txt\n",
      "/home/rohan/Documents/Homework/WSTA/wiki-all/wiki-075.txt\n",
      "/home/rohan/Documents/Homework/WSTA/wiki-all/wiki-079.txt\n",
      "/home/rohan/Documents/Homework/WSTA/wiki-all/wiki-058.txt\n",
      "/home/rohan/Documents/Homework/WSTA/wiki-all/wiki-020.txt\n",
      "/home/rohan/Documents/Homework/WSTA/wiki-all/wiki-015.txt\n",
      "/home/rohan/Documents/Homework/WSTA/wiki-all/wiki-103.txt\n",
      "/home/rohan/Documents/Homework/WSTA/wiki-all/wiki-068.txt\n",
      "/home/rohan/Documents/Homework/WSTA/wiki-all/wiki-095.txt\n",
      "/home/rohan/Documents/Homework/WSTA/wiki-all/wiki-017.txt\n",
      "/home/rohan/Documents/Homework/WSTA/wiki-all/wiki-037.txt\n",
      "/home/rohan/Documents/Homework/WSTA/wiki-all/wiki-053.txt\n",
      "/home/rohan/Documents/Homework/WSTA/wiki-all/wiki-018.txt\n",
      "/home/rohan/Documents/Homework/WSTA/wiki-all/wiki-043.txt\n",
      "/home/rohan/Documents/Homework/WSTA/wiki-all/wiki-082.txt\n",
      "/home/rohan/Documents/Homework/WSTA/wiki-all/wiki-044.txt\n",
      "/home/rohan/Documents/Homework/WSTA/wiki-all/wiki-076.txt\n",
      "/home/rohan/Documents/Homework/WSTA/wiki-all/wiki-025.txt\n",
      "/home/rohan/Documents/Homework/WSTA/wiki-all/wiki-019.txt\n",
      "/home/rohan/Documents/Homework/WSTA/wiki-all/wiki-027.txt\n",
      "/home/rohan/Documents/Homework/WSTA/wiki-all/wiki-062.txt\n",
      "/home/rohan/Documents/Homework/WSTA/wiki-all/wiki-001.txt\n",
      "/home/rohan/Documents/Homework/WSTA/wiki-all/wiki-039.txt\n",
      "/home/rohan/Documents/Homework/WSTA/wiki-all/wiki-083.txt\n",
      "/home/rohan/Documents/Homework/WSTA/wiki-all/wiki-038.txt\n",
      "/home/rohan/Documents/Homework/WSTA/wiki-all/wiki-048.txt\n",
      "/home/rohan/Documents/Homework/WSTA/wiki-all/wiki-071.txt\n",
      "/home/rohan/Documents/Homework/WSTA/wiki-all/wiki-078.txt\n",
      "/home/rohan/Documents/Homework/WSTA/wiki-all/wiki-003.txt\n",
      "/home/rohan/Documents/Homework/WSTA/wiki-all/wiki-005.txt\n",
      "/home/rohan/Documents/Homework/WSTA/wiki-all/wiki-026.txt\n",
      "/home/rohan/Documents/Homework/WSTA/wiki-all/wiki-034.txt\n",
      "/home/rohan/Documents/Homework/WSTA/wiki-all/wiki-104.txt\n",
      "/home/rohan/Documents/Homework/WSTA/wiki-all/wiki-067.txt\n",
      "/home/rohan/Documents/Homework/WSTA/wiki-all/wiki-073.txt\n",
      "/home/rohan/Documents/Homework/WSTA/wiki-all/wiki-042.txt\n",
      "/home/rohan/Documents/Homework/WSTA/wiki-all/wiki-109.txt\n",
      "/home/rohan/Documents/Homework/WSTA/wiki-all/wiki-094.txt\n",
      "/home/rohan/Documents/Homework/WSTA/wiki-all/wiki-102.txt\n",
      "/home/rohan/Documents/Homework/WSTA/wiki-all/wiki-061.txt\n",
      "/home/rohan/Documents/Homework/WSTA/wiki-all/wiki-008.txt\n",
      "/home/rohan/Documents/Homework/WSTA/wiki-all/wiki-024.txt\n",
      "/home/rohan/Documents/Homework/WSTA/wiki-all/wiki-002.txt\n",
      "/home/rohan/Documents/Homework/WSTA/wiki-all/wiki-086.txt\n",
      "/home/rohan/Documents/Homework/WSTA/wiki-all/wiki-085.txt\n",
      "/home/rohan/Documents/Homework/WSTA/wiki-all/wiki-016.txt\n",
      "/home/rohan/Documents/Homework/WSTA/wiki-all/wiki-033.txt\n",
      "/home/rohan/Documents/Homework/WSTA/wiki-all/wiki-056.txt\n",
      "/home/rohan/Documents/Homework/WSTA/wiki-all/wiki-023.txt\n",
      "/home/rohan/Documents/Homework/WSTA/wiki-all/wiki-006.txt\n",
      "/home/rohan/Documents/Homework/WSTA/wiki-all/wiki-099.txt\n",
      "/home/rohan/Documents/Homework/WSTA/wiki-all/wiki-049.txt\n",
      "/home/rohan/Documents/Homework/WSTA/wiki-all/wiki-081.txt\n",
      "/home/rohan/Documents/Homework/WSTA/wiki-all/wiki-036.txt\n",
      "/home/rohan/Documents/Homework/WSTA/wiki-all/wiki-046.txt\n",
      "/home/rohan/Documents/Homework/WSTA/wiki-all/wiki-051.txt\n",
      "/home/rohan/Documents/Homework/WSTA/wiki-all/wiki-088.txt\n",
      "/home/rohan/Documents/Homework/WSTA/wiki-all/wiki-072.txt\n",
      "/home/rohan/Documents/Homework/WSTA/wiki-all/wiki-013.txt\n",
      "/home/rohan/Documents/Homework/WSTA/wiki-all/wiki-007.txt\n",
      "/home/rohan/Documents/Homework/WSTA/wiki-all/wiki-009.txt\n",
      "/home/rohan/Documents/Homework/WSTA/wiki-all/wiki-097.txt\n",
      "/home/rohan/Documents/Homework/WSTA/wiki-all/wiki-093.txt\n",
      "/home/rohan/Documents/Homework/WSTA/wiki-all/wiki-106.txt\n",
      "/home/rohan/Documents/Homework/WSTA/wiki-all/wiki-101.txt\n",
      "/home/rohan/Documents/Homework/WSTA/wiki-all/wiki-014.txt\n",
      "/home/rohan/Documents/Homework/WSTA/wiki-all/wiki-091.txt\n",
      "/home/rohan/Documents/Homework/WSTA/wiki-all/wiki-096.txt\n",
      "/home/rohan/Documents/Homework/WSTA/wiki-all/wiki-055.txt\n",
      "/home/rohan/Documents/Homework/WSTA/wiki-all/wiki-105.txt\n",
      "/home/rohan/Documents/Homework/WSTA/wiki-all/wiki-074.txt\n",
      "/home/rohan/Documents/Homework/WSTA/wiki-all/wiki-050.txt\n",
      "/home/rohan/Documents/Homework/WSTA/wiki-all/wiki-028.txt\n",
      "/home/rohan/Documents/Homework/WSTA/wiki-all/wiki-029.txt\n",
      "/home/rohan/Documents/Homework/WSTA/wiki-all/wiki-032.txt\n",
      "/home/rohan/Documents/Homework/WSTA/wiki-all/wiki-011.txt\n",
      "/home/rohan/Documents/Homework/WSTA/wiki-all/wiki-064.txt\n",
      "/home/rohan/Documents/Homework/WSTA/wiki-all/wiki-065.txt\n",
      "/home/rohan/Documents/Homework/WSTA/wiki-all/wiki-054.txt\n",
      "/home/rohan/Documents/Homework/WSTA/wiki-all/wiki-063.txt\n",
      "/home/rohan/Documents/Homework/WSTA/wiki-all/wiki-004.txt\n",
      "/home/rohan/Documents/Homework/WSTA/wiki-all/wiki-057.txt\n",
      "                                 doc_id  \\\n",
      "0  Israeli_legislative_election,_2013#0   \n",
      "1  Israeli_legislative_election,_2013#1   \n",
      "2  Israeli_legislative_election,_2013#2   \n",
      "3  Israeli_legislative_election,_2013#5   \n",
      "4  Israeli_legislative_election,_2013#6   \n",
      "\n",
      "                                                line  \n",
      "0  Early elections for the nineteenth Knesset wer...  \n",
      "1  Public debate over the Tal Law had nearly led ...  \n",
      "2  The elections were later called in early Octob...  \n",
      "3  The elections saw the Likud Yisrael Beiteinu a...  \n",
      "4  Likud leader Benjamin Netanyahu formed the cou...  \n",
      "(24170160, 2)\n",
      "Time taken:  60.21310377120972\n"
     ]
    }
   ],
   "source": [
    "start = time.time()\n",
    "doc_id_list = []\n",
    "line_num_list = []\n",
    "sent_list = []\n",
    "df = pd.DataFrame(columns = ['doc_id', 'line'])\n",
    "for file in files:\n",
    "    with open(file, 'r') as f:\n",
    "        print(file)\n",
    "        for line in f:\n",
    "            try:\n",
    "                #print(line)\n",
    "                row = line.split(maxsplit=2)\n",
    "                word = row[2].split()\n",
    "                if len(word) > 4:\n",
    "                    doc_id_list.append(row[0]+\"#\"+row[1])\n",
    "                    sent_list.append(row[2].rstrip('\\n'))          \n",
    "                else:\n",
    "                    pass\n",
    "            except Exception as e:\n",
    "                print(\"ERROR\",e, line)\n",
    "df['doc_id'] = doc_id_list\n",
    "df['line'] = sent_list\n",
    "print(df.head())\n",
    "print(df.shape)\n",
    "print(\"Time taken: \", time.time() - start)"
   ]
  },
  {
   "cell_type": "code",
   "execution_count": 8,
   "metadata": {},
   "outputs": [
    {
     "name": "stdout",
     "output_type": "stream",
     "text": [
      "Time taken:  57.22614908218384\n"
     ]
    }
   ],
   "source": [
    "start = time.time()\n",
    "np.savetxt('/home/rohan/Documents/Homework/WSTA/wiki_fullid_filtered.txt', df['doc_id'].values, fmt = '%s')\n",
    "np.savetxt('/home/rohan/Documents/Homework/WSTA/wiki_sent_filtered.txt', df['line'], fmt = '%s')\n",
    "print(\"Time taken: \", time.time() - start)"
   ]
  },
  {
   "cell_type": "code",
   "execution_count": 9,
   "metadata": {},
   "outputs": [
    {
     "name": "stdout",
     "output_type": "stream",
     "text": [
      "Time taken:  5416.398795604706\n"
     ]
    }
   ],
   "source": [
    "start = time.time()\n",
    "corpus = TextCorpus(datapath('/home/rohan/Documents/Homework/WSTA/wiki_sent_filtered.txt'))\n",
    "print(\"Time taken: \", time.time()-start)"
   ]
  },
  {
   "cell_type": "code",
   "execution_count": 10,
   "metadata": {},
   "outputs": [
    {
     "name": "stdout",
     "output_type": "stream",
     "text": [
      "Time taken:  7.851433038711548\n"
     ]
    }
   ],
   "source": [
    "start = time.time()\n",
    "dictionary = corpus.dictionary\n",
    "dictionary.save_as_text('/home/rohan/Documents/Homework/WSTA/dictionaries/dict_filtered.txt')\n",
    "print(\"Time taken: \", time.time()-start)"
   ]
  },
  {
   "cell_type": "code",
   "execution_count": 11,
   "metadata": {},
   "outputs": [
    {
     "name": "stdout",
     "output_type": "stream",
     "text": [
      "1409.1308815479279\n"
     ]
    }
   ],
   "source": [
    "start = time.time()\n",
    "tf_idf = gensim.models.TfidfModel(corpus)\n",
    "tf_idf.save('/home/rohan/Documents/Homework/WSTA/tf-idfs/tf_idf_filtered')\n",
    "print(time.time() - start)"
   ]
  },
  {
   "cell_type": "code",
   "execution_count": 12,
   "metadata": {},
   "outputs": [
    {
     "name": "stdout",
     "output_type": "stream",
     "text": [
      "Time taken:  7531.008040428162\n"
     ]
    }
   ],
   "source": [
    "start = time.time()\n",
    "sims = gensim.similarities.Similarity('/home/rohan/Documents/Homework/WSTA/sims/filtered',tf_idf[corpus], num_features=len(dictionary))\n",
    "print(\"Time taken: \", time.time()-start)"
   ]
  },
  {
   "cell_type": "code",
   "execution_count": 24,
   "metadata": {},
   "outputs": [],
   "source": [
    "sims.save('/home/rohan/Documents/Homework/WSTA/sims/sims_index_filtered')"
   ]
  },
  {
   "cell_type": "code",
   "execution_count": 23,
   "metadata": {},
   "outputs": [
    {
     "name": "stdin",
     "output_type": "stream",
     "text": [
      "Enter statement:  where do we go now\n"
     ]
    },
    {
     "name": "stdout",
     "output_type": "stream",
     "text": [
      "                                               doc_id  \\\n",
      "0                Israeli_legislative_election,_2013#0   \n",
      "1                Israeli_legislative_election,_2013#1   \n",
      "2                Israeli_legislative_election,_2013#2   \n",
      "3                Israeli_legislative_election,_2013#5   \n",
      "4                Israeli_legislative_election,_2013#6   \n",
      "5   International_Mathematics_and_Design_Associati...   \n",
      "6   International_Mathematics_and_Design_Associati...   \n",
      "7   International_Mathematics_and_Design_Associati...   \n",
      "8                             Interstellar_Low_Ways#0   \n",
      "9                             Interstellar_Low_Ways#1   \n",
      "10                            Interstellar_Low_Ways#2   \n",
      "11                            Interstellar_Low_Ways#4   \n",
      "12                            Interstellar_Low_Ways#5   \n",
      "13                            Interstellar_Low_Ways#6   \n",
      "14                            Interstellar_Low_Ways#9   \n",
      "15                           Interstellar_Low_Ways#12   \n",
      "16                             Jack_Daniel's_Racing#0   \n",
      "17                             Jack_Daniel's_Racing#2   \n",
      "18                             Jack_Daniel's_Racing#4   \n",
      "19                             Jack_Daniel's_Racing#6   \n",
      "20                             Jack_Daniel's_Racing#8   \n",
      "21                                     Inba_Station#0   \n",
      "22                                     Inba_Station#1   \n",
      "23                                   Jackie_Jenkins#0   \n",
      "24                                   Jackie_Jenkins#3   \n",
      "25                                   Jackie_Jenkins#5   \n",
      "26                                   Jackie_Jenkins#7   \n",
      "27                                   Jackie_Jenkins#8   \n",
      "28                                     Ines_Vercesi#0   \n",
      "29                                     Ines_Vercesi#3   \n",
      "30                                    Jamal_Hairane#0   \n",
      "31                                    Jamal_Hairane#1   \n",
      "32                                    Jamal_Hairane#4   \n",
      "33                                    Jamal_Hairane#5   \n",
      "34                                          Imathia#0   \n",
      "35                                          Imathia#1   \n",
      "36                                          Imathia#2   \n",
      "37                                       Injilarija#0   \n",
      "38                                       Injilarija#1   \n",
      "39                   Index_of_Utah-related_articles#0   \n",
      "40             Ismatullah_-LRB-Bagram_detainee-RRB-#0   \n",
      "41             Ismatullah_-LRB-Bagram_detainee-RRB-#2   \n",
      "42             Ismatullah_-LRB-Bagram_detainee-RRB-#4   \n",
      "43             Ismatullah_-LRB-Bagram_detainee-RRB-#5   \n",
      "44             Ismatullah_-LRB-Bagram_detainee-RRB-#6   \n",
      "45                                      Isaac_Massa#0   \n",
      "46                                      Isaac_Massa#1   \n",
      "47                                      Isaac_Massa#2   \n",
      "48                                      Isaac_Massa#3   \n",
      "49                                      Isaac_Massa#4   \n",
      "\n",
      "                                                 line  similarity_score  \n",
      "0   Early elections for the nineteenth Knesset wer...               0.0  \n",
      "1   Public debate over the Tal Law had nearly led ...               0.0  \n",
      "2   The elections were later called in early Octob...               0.0  \n",
      "3   The elections saw the Likud Yisrael Beiteinu a...               0.0  \n",
      "4   Likud leader Benjamin Netanyahu formed the cou...               0.0  \n",
      "5   The International Mathematics & Design Associa...               0.0  \n",
      "6          Its president is Dr. Vera W. de Spinadel .               0.0  \n",
      "7   It has associates from nine countries of the w...               0.0  \n",
      "8   Interstellar Low Ways is an album recorded by ...               0.0  \n",
      "9   Originally titled Rocket Number Nine , the alb...               0.0  \n",
      "10  The album is known particularly for the two so...               0.0  \n",
      "11  ` Rocket Number Nine points toward the music t...               0.0  \n",
      "12  The tenor sax solo is n't the work of John Col...               0.0  \n",
      "13  And not even Ornette Coleman 's bassists were ...               0.0  \n",
      "14  When reissued by Evidence , Interstellar Low W...               0.0  \n",
      "15  Lady Gaga references the line ; Rocket Number ...               0.0  \n",
      "16  Jack Daniel 's Racing may refer to either of t...               0.0  \n",
      "17      Brett Stevens Racing , Australian Drag Racing               0.0  \n",
      "18  Kelly Racing , International V8 Supercars Cham...               0.0  \n",
      "19  Perkins Engineering , International V8 Superca...               0.0  \n",
      "20       Richard Childress Racing , NASCAR Sprint Cup               0.0  \n",
      "21  is a railway station operated by Meitetsu 's S...               0.0  \n",
      "22  It is located 12.2 rail kilometers from termin...               0.0  \n",
      "23                      Jackie Jenkins may refer to :               0.0  \n",
      "24  Jackie ` Butch ' Jenkins -LRB- 1937 -- 2001 -R...               0.0  \n",
      "25  Jackie Jenkins-Scott -LRB- born c. 1950 -RRB- ...               0.0  \n",
      "26                          Jackie Jenkins -LRB- fl .               0.0  \n",
      "27  1990s -RRB- , British writer a.k.a. Vanessa Bi...               0.0  \n",
      "28  Ines Vercesi -LRB- January 5 , 1916 -- 1997 -R...               0.0  \n",
      "29  In 1928 , she won the silver medal as member o...               0.0  \n",
      "30  Jamal Hairane -LRB- born 26 May 1993 -RRB- is ...               0.0  \n",
      "31  He won the Bronze medal at the 2014 Asian Games .               0.0  \n",
      "32  His personal bests in the event are 1:47.61 ou...               0.0  \n",
      "33             He is also known as Jamal Al-Hayrani .               0.0  \n",
      "34  Imathia -LRB- Ημαθία -LSB- imaˈθia -RSB- -RRB-...               0.0  \n",
      "35    It is part of the region of Central Macedonia .               0.0  \n",
      "36     The capital of Imathia is the city of Veroia .               0.0  \n",
      "37  The Injilarija people were an Indigenous Austr...               0.0  \n",
      "38                  They are now considered extinct .               0.0  \n",
      "39  The following is an alphabetical list of artic...               0.0  \n",
      "40           Ismatullah is a citizen of Afghanistan .               0.0  \n",
      "41  According to Asia Times Ismatullah , a residen...               0.0  \n",
      "42  Months after his disappearance his family rece...               0.0  \n",
      "43  Ismatullah wrote that he had been apprehended ...               0.0  \n",
      "44  He was currently held in extrajudicial detenti...               0.0  \n",
      "45  Isaac Abrahamszoon Massa -LRB- baptized Octobe...               0.0  \n",
      "46  He wrote memoirs related to the Time of Troubl...               0.0  \n",
      "47  Due to Massa 's experience in and knowledge of...               0.0  \n",
      "48  The Isaac Massa Foundation was established in ...               0.0  \n",
      "49  It aims to stimulate scientific and cultural c...               0.0  \n",
      "Time taken:  64.34052968025208\n"
     ]
    }
   ],
   "source": [
    "query = input(\"Enter statement: \")\n",
    "start = time.time()\n",
    "query_doc = preprocess(query)\n",
    "query_doc_bow = dictionary.doc2bow(query_doc)\n",
    "query_doc_tf_idf = tf_idf[query_doc_bow]\n",
    "sim_list = sims[query_doc_tf_idf]\n",
    "df['similarity_score'] = sim_list\n",
    "print(df.nlargest(50, ['similarity_score']))\n",
    "print(\"Time taken: \",time.time() - start)"
   ]
  },
  {
   "cell_type": "code",
   "execution_count": null,
   "metadata": {},
   "outputs": [],
   "source": []
  },
  {
   "cell_type": "code",
   "execution_count": null,
   "metadata": {},
   "outputs": [],
   "source": []
  },
  {
   "cell_type": "code",
   "execution_count": null,
   "metadata": {},
   "outputs": [],
   "source": []
  }
 ],
 "metadata": {
  "kernelspec": {
   "display_name": "Python 3",
   "language": "python",
   "name": "python3"
  },
  "language_info": {
   "codemirror_mode": {
    "name": "ipython",
    "version": 3
   },
   "file_extension": ".py",
   "mimetype": "text/x-python",
   "name": "python",
   "nbconvert_exporter": "python",
   "pygments_lexer": "ipython3",
   "version": "3.7.3"
  }
 },
 "nbformat": 4,
 "nbformat_minor": 2
}
