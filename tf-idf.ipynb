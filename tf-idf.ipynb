{
 "cells": [
  {
   "cell_type": "code",
   "execution_count": 2,
   "metadata": {},
   "outputs": [],
   "source": [
    "#Importing Libraries\n",
    "import glob\n",
    "import errno\n",
    "import matplotlib.pyplot as plt \n",
    "import seaborn as sns\n",
    "import time\n",
    "%matplotlib inline\n",
    "from collections import defaultdict\n",
    "import pandas as pd\n",
    "import nltk\n",
    "from nltk.corpus import stopwords\n",
    "import string\n",
    "from sklearn.feature_extraction.text import CountVectorizer,TfidfTransformer"
   ]
  },
  {
   "cell_type": "code",
   "execution_count": 7,
   "metadata": {},
   "outputs": [],
   "source": [
    "#Defining path for files\n",
    "files = glob.glob('/home/rohan/Documents/Homework/WSTA/wiki-pages-text/*.txt')\n",
    "files = [file for file in files if file != '/home/rohan/Documents/Homework/WSTA/wiki-pages-text/to_test.txt']\n",
    "    \n",
    "\n",
    "#files = '/home/rohan/Documents/Homework/WSTA/wiki-pages-text/wiki-001.txt'"
   ]
  },
  {
   "cell_type": "code",
   "execution_count": 3,
   "metadata": {},
   "outputs": [],
   "source": [
    "#Function to process \n",
    "def preprocess_text(lst):\n",
    "    nopunc = [char for char in lst if char not in string.punctuation]\n",
    "\n",
    "    # Join the characters again to form the string.\n",
    "    nopunc = ''.join(nopunc)\n",
    "    \n",
    "    # Now just remove any stopwords\n",
    "    return [word for word in nopunc.split() if word.lower() not in stopwords.words('english')]\n",
    "        "
   ]
  },
  {
   "cell_type": "code",
   "execution_count": 4,
   "metadata": {},
   "outputs": [],
   "source": [
    "d = {}\n",
    "z = []\n",
    "with open(files,encoding = 'utf-8') as f:\n",
    "    for lines in f:\n",
    "        z =lines.split(maxsplit=2)\n",
    "        key = '_'.join(z[:2])\n",
    "        d[key] = z[2]\n",
    "        \n",
    "        \n",
    "        "
   ]
  },
  {
   "cell_type": "code",
   "execution_count": 12,
   "metadata": {},
   "outputs": [
    {
     "data": {
      "text/html": [
       "<div>\n",
       "<style scoped>\n",
       "    .dataframe tbody tr th:only-of-type {\n",
       "        vertical-align: middle;\n",
       "    }\n",
       "\n",
       "    .dataframe tbody tr th {\n",
       "        vertical-align: top;\n",
       "    }\n",
       "\n",
       "    .dataframe thead th {\n",
       "        text-align: right;\n",
       "    }\n",
       "</style>\n",
       "<table border=\"1\" class=\"dataframe\">\n",
       "  <thead>\n",
       "    <tr style=\"text-align: right;\">\n",
       "      <th></th>\n",
       "      <th>key</th>\n",
       "      <th>value</th>\n",
       "    </tr>\n",
       "  </thead>\n",
       "  <tbody>\n",
       "    <tr>\n",
       "      <th>0</th>\n",
       "      <td>1928_in_association_football_0</td>\n",
       "      <td>The following are the football -LRB- soccer -R...</td>\n",
       "    </tr>\n",
       "    <tr>\n",
       "      <th>1</th>\n",
       "      <td>1986_NBA_Finals_0</td>\n",
       "      <td>The 1986 NBA Finals was the championship round...</td>\n",
       "    </tr>\n",
       "    <tr>\n",
       "      <th>2</th>\n",
       "      <td>1986_NBA_Finals_1</td>\n",
       "      <td>It pitted the Eastern Conference champion Bost...</td>\n",
       "    </tr>\n",
       "    <tr>\n",
       "      <th>3</th>\n",
       "      <td>1986_NBA_Finals_2</td>\n",
       "      <td>The Celtics defeated the Rockets four games to...</td>\n",
       "    </tr>\n",
       "    <tr>\n",
       "      <th>4</th>\n",
       "      <td>1986_NBA_Finals_3</td>\n",
       "      <td>The championship would be the Celtics ' last u...</td>\n",
       "    </tr>\n",
       "  </tbody>\n",
       "</table>\n",
       "</div>"
      ],
      "text/plain": [
       "                              key  \\\n",
       "0  1928_in_association_football_0   \n",
       "1               1986_NBA_Finals_0   \n",
       "2               1986_NBA_Finals_1   \n",
       "3               1986_NBA_Finals_2   \n",
       "4               1986_NBA_Finals_3   \n",
       "\n",
       "                                               value  \n",
       "0  The following are the football -LRB- soccer -R...  \n",
       "1  The 1986 NBA Finals was the championship round...  \n",
       "2  It pitted the Eastern Conference champion Bost...  \n",
       "3  The Celtics defeated the Rockets four games to...  \n",
       "4  The championship would be the Celtics ' last u...  "
      ]
     },
     "execution_count": 12,
     "metadata": {},
     "output_type": "execute_result"
    }
   ],
   "source": [
    "df = pd.DataFrame(d.items(),columns=['key','value'])\n",
    "df.head()"
   ]
  },
  {
   "cell_type": "code",
   "execution_count": 13,
   "metadata": {},
   "outputs": [
    {
     "data": {
      "text/html": [
       "<div>\n",
       "<style scoped>\n",
       "    .dataframe tbody tr th:only-of-type {\n",
       "        vertical-align: middle;\n",
       "    }\n",
       "\n",
       "    .dataframe tbody tr th {\n",
       "        vertical-align: top;\n",
       "    }\n",
       "\n",
       "    .dataframe thead th {\n",
       "        text-align: right;\n",
       "    }\n",
       "</style>\n",
       "<table border=\"1\" class=\"dataframe\">\n",
       "  <thead>\n",
       "    <tr style=\"text-align: right;\">\n",
       "      <th></th>\n",
       "      <th>key</th>\n",
       "      <th>value</th>\n",
       "      <th>length</th>\n",
       "    </tr>\n",
       "  </thead>\n",
       "  <tbody>\n",
       "    <tr>\n",
       "      <th>0</th>\n",
       "      <td>1928_in_association_football_0</td>\n",
       "      <td>The following are the football -LRB- soccer -R...</td>\n",
       "      <td>97</td>\n",
       "    </tr>\n",
       "    <tr>\n",
       "      <th>1</th>\n",
       "      <td>1986_NBA_Finals_0</td>\n",
       "      <td>The 1986 NBA Finals was the championship round...</td>\n",
       "      <td>78</td>\n",
       "    </tr>\n",
       "    <tr>\n",
       "      <th>2</th>\n",
       "      <td>1986_NBA_Finals_1</td>\n",
       "      <td>It pitted the Eastern Conference champion Bost...</td>\n",
       "      <td>234</td>\n",
       "    </tr>\n",
       "    <tr>\n",
       "      <th>3</th>\n",
       "      <td>1986_NBA_Finals_2</td>\n",
       "      <td>The Celtics defeated the Rockets four games to...</td>\n",
       "      <td>88</td>\n",
       "    </tr>\n",
       "    <tr>\n",
       "      <th>4</th>\n",
       "      <td>1986_NBA_Finals_3</td>\n",
       "      <td>The championship would be the Celtics ' last u...</td>\n",
       "      <td>73</td>\n",
       "    </tr>\n",
       "  </tbody>\n",
       "</table>\n",
       "</div>"
      ],
      "text/plain": [
       "                              key  \\\n",
       "0  1928_in_association_football_0   \n",
       "1               1986_NBA_Finals_0   \n",
       "2               1986_NBA_Finals_1   \n",
       "3               1986_NBA_Finals_2   \n",
       "4               1986_NBA_Finals_3   \n",
       "\n",
       "                                               value  length  \n",
       "0  The following are the football -LRB- soccer -R...      97  \n",
       "1  The 1986 NBA Finals was the championship round...      78  \n",
       "2  It pitted the Eastern Conference champion Bost...     234  \n",
       "3  The Celtics defeated the Rockets four games to...      88  \n",
       "4  The championship would be the Celtics ' last u...      73  "
      ]
     },
     "execution_count": 13,
     "metadata": {},
     "output_type": "execute_result"
    }
   ],
   "source": [
    "df['length'] = df['value'].apply(len)\n",
    "df.head()"
   ]
  },
  {
   "cell_type": "code",
   "execution_count": 14,
   "metadata": {},
   "outputs": [
    {
     "data": {
      "text/html": [
       "<div>\n",
       "<style scoped>\n",
       "    .dataframe tbody tr th:only-of-type {\n",
       "        vertical-align: middle;\n",
       "    }\n",
       "\n",
       "    .dataframe tbody tr th {\n",
       "        vertical-align: top;\n",
       "    }\n",
       "\n",
       "    .dataframe thead th {\n",
       "        text-align: right;\n",
       "    }\n",
       "</style>\n",
       "<table border=\"1\" class=\"dataframe\">\n",
       "  <thead>\n",
       "    <tr style=\"text-align: right;\">\n",
       "      <th></th>\n",
       "      <th>key</th>\n",
       "      <th>value</th>\n",
       "      <th>length</th>\n",
       "    </tr>\n",
       "  </thead>\n",
       "  <tbody>\n",
       "    <tr>\n",
       "      <th>0</th>\n",
       "      <td>1928_in_association_football_0</td>\n",
       "      <td>The following are the football -LRB- soccer -R...</td>\n",
       "      <td>97</td>\n",
       "    </tr>\n",
       "    <tr>\n",
       "      <th>1</th>\n",
       "      <td>1986_NBA_Finals_0</td>\n",
       "      <td>The 1986 NBA Finals was the championship round...</td>\n",
       "      <td>78</td>\n",
       "    </tr>\n",
       "    <tr>\n",
       "      <th>2</th>\n",
       "      <td>1986_NBA_Finals_1</td>\n",
       "      <td>It pitted the Eastern Conference champion Bost...</td>\n",
       "      <td>234</td>\n",
       "    </tr>\n",
       "    <tr>\n",
       "      <th>3</th>\n",
       "      <td>1986_NBA_Finals_2</td>\n",
       "      <td>The Celtics defeated the Rockets four games to...</td>\n",
       "      <td>88</td>\n",
       "    </tr>\n",
       "    <tr>\n",
       "      <th>4</th>\n",
       "      <td>1986_NBA_Finals_3</td>\n",
       "      <td>The championship would be the Celtics ' last u...</td>\n",
       "      <td>73</td>\n",
       "    </tr>\n",
       "  </tbody>\n",
       "</table>\n",
       "</div>"
      ],
      "text/plain": [
       "                              key  \\\n",
       "0  1928_in_association_football_0   \n",
       "1               1986_NBA_Finals_0   \n",
       "2               1986_NBA_Finals_1   \n",
       "3               1986_NBA_Finals_2   \n",
       "4               1986_NBA_Finals_3   \n",
       "\n",
       "                                               value  length  \n",
       "0  The following are the football -LRB- soccer -R...      97  \n",
       "1  The 1986 NBA Finals was the championship round...      78  \n",
       "2  It pitted the Eastern Conference champion Bost...     234  \n",
       "3  The Celtics defeated the Rockets four games to...      88  \n",
       "4  The championship would be the Celtics ' last u...      73  "
      ]
     },
     "execution_count": 14,
     "metadata": {},
     "output_type": "execute_result"
    }
   ],
   "source": [
    "df['value'].head().apply(preprocess_text)\n",
    "df.head()"
   ]
  },
  {
   "cell_type": "code",
   "execution_count": 9,
   "metadata": {},
   "outputs": [
    {
     "name": "stdout",
     "output_type": "stream",
     "text": [
      "Shape of Sparse Matrix:  (170548, 89547)\n",
      "Amount of Non-Zero occurences:  1857949\n"
     ]
    }
   ],
   "source": [
    "bow_transformer = CountVectorizer(analyzer= preprocess_text).fit(df['value'])\n",
    "value_bow = bow_transformer.transform(df['value'])\n",
    "print('Shape of Sparse Matrix: ', value_bow.shape)\n",
    "print('Amount of Non-Zero occurences: ', value_bow.nnz)"
   ]
  },
  {
   "cell_type": "code",
   "execution_count": 10,
   "metadata": {},
   "outputs": [
    {
     "name": "stdout",
     "output_type": "stream",
     "text": [
      "sparsity: 0\n"
     ]
    }
   ],
   "source": [
    "sparsity = (100.0 * value_bow.nnz / (value_bow.shape[0] * value_bow.shape[1]))\n",
    "print('sparsity: {}'.format(round(sparsity)))"
   ]
  },
  {
   "cell_type": "code",
   "execution_count": 11,
   "metadata": {},
   "outputs": [
    {
     "name": "stdout",
     "output_type": "stream",
     "text": [
      "  (0, 88671)\t0.22142461048780204\n",
      "  (0, 88557)\t0.36052651828095955\n",
      "  (0, 86120)\t0.42069647571930074\n",
      "  (0, 83750)\t0.41952621857982186\n",
      "  (0, 70341)\t0.21506438997001473\n",
      "  (0, 70319)\t0.30864122923160964\n",
      "  (0, 69131)\t0.2880677411550254\n",
      "  (0, 46467)\t0.1864851216260573\n",
      "  (0, 34366)\t0.18645140088465176\n",
      "  (0, 3641)\t0.4170947728506585\n",
      "  (1, 82508)\t0.14010818988861912\n",
      "  (1, 82009)\t0.26297942771743077\n",
      "  (1, 64325)\t0.23166859192096537\n",
      "  (1, 40612)\t0.613183397307344\n",
      "  (1, 24410)\t0.35029424952848875\n",
      "  (1, 8596)\t0.39827878444758663\n",
      "  (1, 3969)\t0.3149785812924177\n",
      "  (1, 3962)\t0.3178108595387673\n",
      "  (2, 85494)\t0.08609599559334333\n",
      "  (2, 81229)\t0.2165300802731281\n",
      "  (2, 81216)\t0.19085832351526744\n",
      "  (2, 78856)\t0.23480208545783074\n",
      "  (2, 64321)\t0.26867568028956534\n",
      "  (2, 58752)\t0.15191266842403672\n",
      "  (2, 47984)\t0.4049263467223838\n",
      "  :\t:\n",
      "  (170544, 7971)\t0.08590889125948678\n",
      "  (170544, 7524)\t0.7242743151410501\n",
      "  (170544, 7001)\t0.08539076149934254\n",
      "  (170544, 6343)\t0.2440398231352341\n",
      "  (170544, 5520)\t0.07909617600762374\n",
      "  (170544, 4330)\t0.1564730374945357\n",
      "  (170544, 3394)\t0.14253465526971815\n",
      "  (170544, 670)\t0.14915087939704105\n",
      "  (170545, 88671)\t0.23409797185311557\n",
      "  (170545, 53706)\t0.5091669115966981\n",
      "  (170545, 31177)\t0.4029483822605676\n",
      "  (170545, 23383)\t0.31010995496255966\n",
      "  (170545, 22810)\t0.4721870512493583\n",
      "  (170545, 3582)\t0.4521625829372491\n",
      "  (170546, 82085)\t0.39353102058691175\n",
      "  (170546, 70341)\t0.21547951133828147\n",
      "  (170546, 65231)\t0.2701836261837469\n",
      "  (170546, 48676)\t0.5212200867641069\n",
      "  (170546, 26970)\t0.29866751964150495\n",
      "  (170546, 24405)\t0.325197961509301\n",
      "  (170546, 12166)\t0.3244518044956296\n",
      "  (170546, 3798)\t0.39218282780608016\n",
      "  (170547, 62721)\t0.5161300747146456\n",
      "  (170547, 8437)\t0.6061362773856903\n",
      "  (170547, 7744)\t0.6051516828135504\n"
     ]
    }
   ],
   "source": [
    "tfidf_transformer = TfidfTransformer().fit(value_bow)\n",
    "value_tfidf = tfidf_transformer.transform(value_bow)\n",
    "print(value_tfidf)"
   ]
  },
  {
   "cell_type": "code",
   "execution_count": null,
   "metadata": {},
   "outputs": [],
   "source": []
  },
  {
   "cell_type": "code",
   "execution_count": null,
   "metadata": {},
   "outputs": [],
   "source": []
  },
  {
   "cell_type": "code",
   "execution_count": null,
   "metadata": {},
   "outputs": [],
   "source": []
  },
  {
   "cell_type": "code",
   "execution_count": null,
   "metadata": {},
   "outputs": [],
   "source": []
  },
  {
   "cell_type": "code",
   "execution_count": null,
   "metadata": {},
   "outputs": [],
   "source": []
  }
 ],
 "metadata": {
  "kernelspec": {
   "display_name": "Python 3",
   "language": "python",
   "name": "python3"
  },
  "language_info": {
   "codemirror_mode": {
    "name": "ipython",
    "version": 3
   },
   "file_extension": ".py",
   "mimetype": "text/x-python",
   "name": "python",
   "nbconvert_exporter": "python",
   "pygments_lexer": "ipython3",
   "version": "3.7.3"
  }
 },
 "nbformat": 4,
 "nbformat_minor": 2
}
