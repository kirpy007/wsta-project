{
 "cells": [
  {
   "cell_type": "markdown",
   "metadata": {},
   "source": [
    "<b>Importing Libraries</b>"
   ]
  },
  {
   "cell_type": "code",
   "execution_count": 1,
   "metadata": {},
   "outputs": [],
   "source": [
    "import time\n",
    "import pprint\n",
    "import glob\n",
    "import nltk\n",
    "from nltk.corpus import stopwords\n",
    "import string\n",
    "import pandas as pd\n",
    "import string\n",
    "import pickle\n",
    "from sklearn.feature_extraction.text import CountVectorizer,TfidfTransformer, TfidfVectorizer"
   ]
  },
  {
   "cell_type": "markdown",
   "metadata": {},
   "source": [
    "<b>Initializing global variables</b>"
   ]
  },
  {
   "cell_type": "code",
   "execution_count": 2,
   "metadata": {},
   "outputs": [],
   "source": [
    "start = time.time()\n",
    "pp = pprint.PrettyPrinter(indent=2)\n",
    "files = glob.glob('/home/rohan/Documents/Homework/WSTA/wiki-pages-text/*.txt')\n",
    "files = [file for file in files if file != '/home/rohan/Documents/Homework/WSTA/wiki-pages-text/to_test.txt']\n",
    "#files = ['/home/rohan/Documents/Homework/WSTA/wiki-pages-text/to_test.txt']\n",
    "doc_dict = {}\n",
    "file_dict = {}\n",
    "df = pd.DataFrame()\n",
    "stemmer = nltk.stem.PorterStemmer()\n",
    "punc_table = str.maketrans({key: None for key in string.punctuation})\n",
    "vocab = {}\n",
    "term_count = 0\n",
    "total_tokens = 0\n",
    "vectorizer = TfidfVectorizer(stop_words='english')"
   ]
  },
  {
   "cell_type": "markdown",
   "metadata": {},
   "source": [
    "<b>Function to preprocess data</b>"
   ]
  },
  {
   "cell_type": "code",
   "execution_count": 106,
   "metadata": {},
   "outputs": [],
   "source": []
  },
  {
   "cell_type": "markdown",
   "metadata": {},
   "source": [
    "<b>Reading data and creating dictionary</b>"
   ]
  },
  {
   "cell_type": "code",
   "execution_count": 31,
   "metadata": {},
   "outputs": [
    {
     "name": "stdout",
     "output_type": "stream",
     "text": [
      "/home/rohan/Documents/Homework/WSTA/wiki-pages-text/wiki-047.txt\n",
      "/home/rohan/Documents/Homework/WSTA/wiki-pages-text/wiki-041.txt\n",
      "/home/rohan/Documents/Homework/WSTA/wiki-pages-text/wiki-107.txt\n",
      "/home/rohan/Documents/Homework/WSTA/wiki-pages-text/wiki-108.txt\n",
      "/home/rohan/Documents/Homework/WSTA/wiki-pages-text/wiki-098.txt\n",
      "/home/rohan/Documents/Homework/WSTA/wiki-pages-text/wiki-030.txt\n",
      "/home/rohan/Documents/Homework/WSTA/wiki-pages-text/wiki-031.txt\n",
      "/home/rohan/Documents/Homework/WSTA/wiki-pages-text/wiki-087.txt\n",
      "/home/rohan/Documents/Homework/WSTA/wiki-pages-text/wiki-077.txt\n",
      "/home/rohan/Documents/Homework/WSTA/wiki-pages-text/wiki-080.txt\n",
      "/home/rohan/Documents/Homework/WSTA/wiki-pages-text/wiki-010.txt\n",
      "/home/rohan/Documents/Homework/WSTA/wiki-pages-text/wiki-045.txt\n",
      "/home/rohan/Documents/Homework/WSTA/wiki-pages-text/wiki-066.txt\n",
      "/home/rohan/Documents/Homework/WSTA/wiki-pages-text/wiki-052.txt\n",
      "/home/rohan/Documents/Homework/WSTA/wiki-pages-text/wiki-040.txt\n",
      "/home/rohan/Documents/Homework/WSTA/wiki-pages-text/wiki-069.txt\n",
      "/home/rohan/Documents/Homework/WSTA/wiki-pages-text/wiki-022.txt\n",
      "/home/rohan/Documents/Homework/WSTA/wiki-pages-text/wiki-090.txt\n",
      "/home/rohan/Documents/Homework/WSTA/wiki-pages-text/wiki-021.txt\n",
      "/home/rohan/Documents/Homework/WSTA/wiki-pages-text/wiki-070.txt\n",
      "/home/rohan/Documents/Homework/WSTA/wiki-pages-text/wiki-100.txt\n",
      "/home/rohan/Documents/Homework/WSTA/wiki-pages-text/wiki-059.txt\n",
      "/home/rohan/Documents/Homework/WSTA/wiki-pages-text/wiki-060.txt\n",
      "/home/rohan/Documents/Homework/WSTA/wiki-pages-text/wiki-092.txt\n",
      "/home/rohan/Documents/Homework/WSTA/wiki-pages-text/wiki-089.txt\n",
      "/home/rohan/Documents/Homework/WSTA/wiki-pages-text/wiki-012.txt\n",
      "/home/rohan/Documents/Homework/WSTA/wiki-pages-text/wiki-084.txt\n",
      "/home/rohan/Documents/Homework/WSTA/wiki-pages-text/wiki-035.txt\n",
      "/home/rohan/Documents/Homework/WSTA/wiki-pages-text/wiki-075.txt\n",
      "/home/rohan/Documents/Homework/WSTA/wiki-pages-text/wiki-079.txt\n",
      "/home/rohan/Documents/Homework/WSTA/wiki-pages-text/wiki-058.txt\n",
      "/home/rohan/Documents/Homework/WSTA/wiki-pages-text/wiki-020.txt\n",
      "/home/rohan/Documents/Homework/WSTA/wiki-pages-text/wiki-015.txt\n",
      "/home/rohan/Documents/Homework/WSTA/wiki-pages-text/wiki-103.txt\n",
      "/home/rohan/Documents/Homework/WSTA/wiki-pages-text/wiki-068.txt\n",
      "/home/rohan/Documents/Homework/WSTA/wiki-pages-text/wiki-095.txt\n",
      "/home/rohan/Documents/Homework/WSTA/wiki-pages-text/wiki-017.txt\n",
      "/home/rohan/Documents/Homework/WSTA/wiki-pages-text/wiki-037.txt\n",
      "/home/rohan/Documents/Homework/WSTA/wiki-pages-text/wiki-053.txt\n",
      "/home/rohan/Documents/Homework/WSTA/wiki-pages-text/wiki-018.txt\n",
      "/home/rohan/Documents/Homework/WSTA/wiki-pages-text/wiki-043.txt\n",
      "/home/rohan/Documents/Homework/WSTA/wiki-pages-text/wiki-082.txt\n",
      "/home/rohan/Documents/Homework/WSTA/wiki-pages-text/wiki-044.txt\n",
      "/home/rohan/Documents/Homework/WSTA/wiki-pages-text/wiki-076.txt\n",
      "/home/rohan/Documents/Homework/WSTA/wiki-pages-text/wiki-025.txt\n",
      "/home/rohan/Documents/Homework/WSTA/wiki-pages-text/wiki-019.txt\n",
      "/home/rohan/Documents/Homework/WSTA/wiki-pages-text/wiki-027.txt\n",
      "/home/rohan/Documents/Homework/WSTA/wiki-pages-text/wiki-062.txt\n",
      "/home/rohan/Documents/Homework/WSTA/wiki-pages-text/wiki-001.txt\n",
      "/home/rohan/Documents/Homework/WSTA/wiki-pages-text/wiki-039.txt\n",
      "/home/rohan/Documents/Homework/WSTA/wiki-pages-text/wiki-083.txt\n",
      "/home/rohan/Documents/Homework/WSTA/wiki-pages-text/wiki-038.txt\n",
      "/home/rohan/Documents/Homework/WSTA/wiki-pages-text/wiki-048.txt\n",
      "/home/rohan/Documents/Homework/WSTA/wiki-pages-text/wiki-071.txt\n",
      "/home/rohan/Documents/Homework/WSTA/wiki-pages-text/wiki-078.txt\n",
      "/home/rohan/Documents/Homework/WSTA/wiki-pages-text/wiki-003.txt\n",
      "/home/rohan/Documents/Homework/WSTA/wiki-pages-text/wiki-005.txt\n",
      "/home/rohan/Documents/Homework/WSTA/wiki-pages-text/wiki-026.txt\n",
      "/home/rohan/Documents/Homework/WSTA/wiki-pages-text/wiki-034.txt\n",
      "/home/rohan/Documents/Homework/WSTA/wiki-pages-text/wiki-104.txt\n",
      "/home/rohan/Documents/Homework/WSTA/wiki-pages-text/wiki-067.txt\n",
      "/home/rohan/Documents/Homework/WSTA/wiki-pages-text/wiki-073.txt\n",
      "/home/rohan/Documents/Homework/WSTA/wiki-pages-text/wiki-042.txt\n",
      "/home/rohan/Documents/Homework/WSTA/wiki-pages-text/wiki-109.txt\n",
      "/home/rohan/Documents/Homework/WSTA/wiki-pages-text/wiki-094.txt\n",
      "/home/rohan/Documents/Homework/WSTA/wiki-pages-text/wiki-102.txt\n",
      "/home/rohan/Documents/Homework/WSTA/wiki-pages-text/wiki-061.txt\n",
      "/home/rohan/Documents/Homework/WSTA/wiki-pages-text/wiki-008.txt\n",
      "/home/rohan/Documents/Homework/WSTA/wiki-pages-text/wiki-024.txt\n",
      "/home/rohan/Documents/Homework/WSTA/wiki-pages-text/wiki-002.txt\n",
      "/home/rohan/Documents/Homework/WSTA/wiki-pages-text/wiki-086.txt\n",
      "/home/rohan/Documents/Homework/WSTA/wiki-pages-text/wiki-085.txt\n",
      "/home/rohan/Documents/Homework/WSTA/wiki-pages-text/wiki-016.txt\n",
      "/home/rohan/Documents/Homework/WSTA/wiki-pages-text/wiki-033.txt\n",
      "/home/rohan/Documents/Homework/WSTA/wiki-pages-text/wiki-056.txt\n",
      "/home/rohan/Documents/Homework/WSTA/wiki-pages-text/wiki-023.txt\n",
      "/home/rohan/Documents/Homework/WSTA/wiki-pages-text/wiki-006.txt\n",
      "/home/rohan/Documents/Homework/WSTA/wiki-pages-text/wiki-099.txt\n",
      "/home/rohan/Documents/Homework/WSTA/wiki-pages-text/wiki-049.txt\n",
      "/home/rohan/Documents/Homework/WSTA/wiki-pages-text/wiki-081.txt\n",
      "/home/rohan/Documents/Homework/WSTA/wiki-pages-text/wiki-036.txt\n",
      "/home/rohan/Documents/Homework/WSTA/wiki-pages-text/wiki-046.txt\n",
      "/home/rohan/Documents/Homework/WSTA/wiki-pages-text/wiki-051.txt\n",
      "/home/rohan/Documents/Homework/WSTA/wiki-pages-text/wiki-088.txt\n",
      "/home/rohan/Documents/Homework/WSTA/wiki-pages-text/wiki-072.txt\n",
      "/home/rohan/Documents/Homework/WSTA/wiki-pages-text/wiki-013.txt\n",
      "/home/rohan/Documents/Homework/WSTA/wiki-pages-text/wiki-007.txt\n",
      "/home/rohan/Documents/Homework/WSTA/wiki-pages-text/wiki-009.txt\n",
      "/home/rohan/Documents/Homework/WSTA/wiki-pages-text/wiki-097.txt\n",
      "/home/rohan/Documents/Homework/WSTA/wiki-pages-text/wiki-093.txt\n",
      "/home/rohan/Documents/Homework/WSTA/wiki-pages-text/wiki-106.txt\n",
      "/home/rohan/Documents/Homework/WSTA/wiki-pages-text/wiki-101.txt\n",
      "/home/rohan/Documents/Homework/WSTA/wiki-pages-text/wiki-014.txt\n",
      "/home/rohan/Documents/Homework/WSTA/wiki-pages-text/wiki-091.txt\n",
      "/home/rohan/Documents/Homework/WSTA/wiki-pages-text/wiki-096.txt\n",
      "/home/rohan/Documents/Homework/WSTA/wiki-pages-text/wiki-055.txt\n",
      "/home/rohan/Documents/Homework/WSTA/wiki-pages-text/wiki-105.txt\n",
      "/home/rohan/Documents/Homework/WSTA/wiki-pages-text/wiki-074.txt\n",
      "/home/rohan/Documents/Homework/WSTA/wiki-pages-text/wiki-050.txt\n",
      "/home/rohan/Documents/Homework/WSTA/wiki-pages-text/wiki-028.txt\n",
      "/home/rohan/Documents/Homework/WSTA/wiki-pages-text/wiki-029.txt\n",
      "/home/rohan/Documents/Homework/WSTA/wiki-pages-text/wiki-032.txt\n",
      "/home/rohan/Documents/Homework/WSTA/wiki-pages-text/wiki-011.txt\n",
      "/home/rohan/Documents/Homework/WSTA/wiki-pages-text/wiki-064.txt\n",
      "/home/rohan/Documents/Homework/WSTA/wiki-pages-text/wiki-065.txt\n",
      "/home/rohan/Documents/Homework/WSTA/wiki-pages-text/wiki-054.txt\n",
      "/home/rohan/Documents/Homework/WSTA/wiki-pages-text/wiki-063.txt\n",
      "/home/rohan/Documents/Homework/WSTA/wiki-pages-text/wiki-004.txt\n",
      "/home/rohan/Documents/Homework/WSTA/wiki-pages-text/wiki-057.txt\n"
     ]
    }
   ],
   "source": [
    "#Only run first time\n",
    "start = time.time()\n",
    "file_dict = {}\n",
    "for file in files:\n",
    "    with open(file, encoding = 'utf-8') as f:\n",
    "        print(file)\n",
    "        for line in f:\n",
    "            try:\n",
    "                #print(line)\n",
    "                line = line.split(maxsplit=2)\n",
    "                #print(line)\n",
    "                key = line[0]\n",
    "                value = line[2]\n",
    "                value = value + \" ###\"\n",
    "                if key in file_dict.keys():\n",
    "                    file_dict[key] = file_dict[key] + value\n",
    "                else:\n",
    "                    file_dict[key] = value\n",
    "                    #print(value)\n",
    "            except Exception as e:\n",
    "                print(\"ERROR\",e, line)\n",
    "        for key, values in file_dict.items():\n",
    "            doc_dict[key] = values\n",
    "        #print(file_dict)\n",
    "end = time.time()\n",
    "#pp.pprint(doc_dict)\n",
    "with open('doc_dict.pickle', 'wb') as handle:\n",
    "    pickle.dump(doc_dict, handle, protocol=pickle.HIGHEST_PROTOCOL)"
   ]
  },
  {
   "cell_type": "code",
   "execution_count": 8,
   "metadata": {},
   "outputs": [],
   "source": [
    "with open('doc_dict.pickle', 'rb') as handle:\n",
    "    doc_dict_2 = pickle.load(handle)\n",
    "#print(doc_dict == doc_dict_2)"
   ]
  },
  {
   "cell_type": "code",
   "execution_count": 13,
   "metadata": {},
   "outputs": [
    {
     "data": {
      "text/plain": [
       "'\\ncnt = 0\\nfor key, values in doc_dict_2.items():\\n    print(key, values)\\n    cnt += 1\\n    if cnt > 10:\\n        break\\n'"
      ]
     },
     "execution_count": 13,
     "metadata": {},
     "output_type": "execute_result"
    }
   ],
   "source": [
    "\"\"\"\n",
    "cnt = 0\n",
    "for key, values in doc_dict_2.items():\n",
    "    print(key, values)\n",
    "    cnt += 1\n",
    "    if cnt > 10:\n",
    "        break\n",
    "\"\"\""
   ]
  },
  {
   "cell_type": "code",
   "execution_count": 9,
   "metadata": {},
   "outputs": [
    {
     "data": {
      "text/html": [
       "<div>\n",
       "<style scoped>\n",
       "    .dataframe tbody tr th:only-of-type {\n",
       "        vertical-align: middle;\n",
       "    }\n",
       "\n",
       "    .dataframe tbody tr th {\n",
       "        vertical-align: top;\n",
       "    }\n",
       "\n",
       "    .dataframe thead th {\n",
       "        text-align: right;\n",
       "    }\n",
       "</style>\n",
       "<table border=\"1\" class=\"dataframe\">\n",
       "  <thead>\n",
       "    <tr style=\"text-align: right;\">\n",
       "      <th></th>\n",
       "      <th>key</th>\n",
       "      <th>value</th>\n",
       "    </tr>\n",
       "  </thead>\n",
       "  <tbody>\n",
       "    <tr>\n",
       "      <th>0</th>\n",
       "      <td>Israeli_legislative_election,_2013</td>\n",
       "      <td>Early elections for the nineteenth Knesset wer...</td>\n",
       "    </tr>\n",
       "    <tr>\n",
       "      <th>1</th>\n",
       "      <td>International_Mathematics_and_Design_Association</td>\n",
       "      <td>The International Mathematics &amp; Design Associa...</td>\n",
       "    </tr>\n",
       "    <tr>\n",
       "      <th>2</th>\n",
       "      <td>Interstellar_Low_Ways</td>\n",
       "      <td>Interstellar Low Ways is an album recorded by ...</td>\n",
       "    </tr>\n",
       "    <tr>\n",
       "      <th>3</th>\n",
       "      <td>Jack_Daniel's_Racing</td>\n",
       "      <td>Jack Daniel 's Racing may refer to either of t...</td>\n",
       "    </tr>\n",
       "    <tr>\n",
       "      <th>4</th>\n",
       "      <td>Inba_Station</td>\n",
       "      <td>is a railway station operated by Meitetsu 's S...</td>\n",
       "    </tr>\n",
       "  </tbody>\n",
       "</table>\n",
       "</div>"
      ],
      "text/plain": [
       "                                                key  \\\n",
       "0                Israeli_legislative_election,_2013   \n",
       "1  International_Mathematics_and_Design_Association   \n",
       "2                             Interstellar_Low_Ways   \n",
       "3                              Jack_Daniel's_Racing   \n",
       "4                                      Inba_Station   \n",
       "\n",
       "                                               value  \n",
       "0  Early elections for the nineteenth Knesset wer...  \n",
       "1  The International Mathematics & Design Associa...  \n",
       "2  Interstellar Low Ways is an album recorded by ...  \n",
       "3  Jack Daniel 's Racing may refer to either of t...  \n",
       "4  is a railway station operated by Meitetsu 's S...  "
      ]
     },
     "execution_count": 9,
     "metadata": {},
     "output_type": "execute_result"
    }
   ],
   "source": [
    "df = pd.DataFrame(doc_dict_2.items(),columns=['key','value'])\n",
    "df.head()"
   ]
  },
  {
   "cell_type": "code",
   "execution_count": 10,
   "metadata": {},
   "outputs": [],
   "source": [
    "X = vectorizer.fit_transform(df['value'])"
   ]
  },
  {
   "cell_type": "code",
   "execution_count": 12,
   "metadata": {},
   "outputs": [
    {
     "name": "stdout",
     "output_type": "stream",
     "text": [
      "(5396106, 3394775)\n"
     ]
    }
   ],
   "source": [
    "#print(vectorizer.get_feature_names())\n",
    "print(X.shape)\n",
    "with open('tf_idf.pickle', 'wb') as handle:\n",
    "    pickle.dump(X, handle, protocol=pickle.HIGHEST_PROTOCOL)\n",
    "#print(X)"
   ]
  },
  {
   "cell_type": "code",
   "execution_count": null,
   "metadata": {},
   "outputs": [],
   "source": [
    "with open('tf_idf.pickle', 'rb') as handle:\n",
    "    tf_idf = pickle.load(handle)"
   ]
  }
 ],
 "metadata": {
  "kernelspec": {
   "display_name": "Python 3",
   "language": "python",
   "name": "python3"
  },
  "language_info": {
   "codemirror_mode": {
    "name": "ipython",
    "version": 3
   },
   "file_extension": ".py",
   "mimetype": "text/x-python",
   "name": "python",
   "nbconvert_exporter": "python",
   "pygments_lexer": "ipython3",
   "version": "3.7.3"
  }
 },
 "nbformat": 4,
 "nbformat_minor": 2
}
